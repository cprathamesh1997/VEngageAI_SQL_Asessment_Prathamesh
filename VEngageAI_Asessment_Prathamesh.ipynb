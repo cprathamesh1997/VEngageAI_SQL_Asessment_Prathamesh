{
 "cells": [
  {
   "cell_type": "markdown",
   "id": "2bf964cd",
   "metadata": {},
   "source": [
    "# Implement backend code for the following problem statements:"
   ]
  },
  {
   "cell_type": "markdown",
   "id": "c2f151ca",
   "metadata": {},
   "source": [
    "## Problem 1:\n",
    "\n",
    "## Write a method that reads phone book records from a CSV or JSON file.Each record consists of the following parameters Name, email, Phone 1, Phone 2."
   ]
  },
  {
   "cell_type": "markdown",
   "id": "3b1ab44d",
   "metadata": {},
   "source": [
    "### In this implementation I used the 'csv' module for reading and writing CSV files,also similarly 'json' module and SQLite for an in-memory database to handle the CRUD operations."
   ]
  },
  {
   "cell_type": "markdown",
   "id": "9c4e85c0",
   "metadata": {},
   "source": [
    "## Basic Steps\n",
    "\n",
    "### 1.]Reads phone book records from a CSV or JSON file.\n",
    "### 2.] file_path (str): Path to the CSV or JSON file.\n",
    "### 3.] Then it returns,list: List of phone book records.\n"
   ]
  },
  {
   "cell_type": "code",
   "execution_count": null,
   "id": "35d2294c",
   "metadata": {},
   "outputs": [],
   "source": [
    "def read_phone_records(file_path):\n",
    "    \n",
    "    extension = file_path.split('.')[-1].lower()\n",
    "\n",
    "    if extension == 'csv':\n",
    "        with open(file_path, 'r') as csvfile:\n",
    "            reader = csv.DictReader(csvfile)\n",
    "            records = [row for row in reader]\n",
    "    elif extension == 'json':\n",
    "        \n",
    "        with open(file_path, 'r') as jsonfile:\n",
    "            records = json.load(jsonfile)\n",
    "    else:\n",
    "        raise ValueError(\"Unsupported file format.As Only CSV and JSON are supported.\")\n",
    "\n",
    "    return records"
   ]
  },
  {
   "cell_type": "markdown",
   "id": "ec0fd806",
   "metadata": {},
   "source": [
    "## For Example\n",
    "\n",
    "### If it is a csv file format just like below,\n",
    "\n",
    "Name,Email,Phone 1,Phone 2\n",
    "John Doe,john.doe@example.com,1234567890,9876543210\n",
    "Jane Smith,jane.smith@example.com,9876543210,1234567890\n",
    "Bob Johnson,bob.johnson@example.com,5555555555,6666666666\n",
    "\n",
    "### The output will be a list of dictionaries, where each dictionary represents a phone book record,\n",
    "\n",
    "[\n",
    "    {'Name': 'John Doe', 'Email': 'john.doe@example.com', 'Phone 1': '1234567890', 'Phone 2': '9876543210'},\n",
    "    {'Name': 'Jane Smith', 'Email': 'jane.smith@example.com', 'Phone 1': '9876543210', 'Phone 2': '1234567890'},\n",
    "    {'Name': 'Bob Johnson', 'Email': 'bob.johnson@example.com', 'Phone 1': '5555555555', 'Phone 2': '6666666666'}\n",
    "]\n",
    "\n",
    "\n",
    "\n",
    "\n",
    "### If it is a json file format just like below,\n",
    "\n",
    "[\n",
    "    {\"Name\": \"John Doe\", \"Email\": \"john.doe@example.com\", \"Phone 1\": \"1234567890\", \"Phone 2\": \"9876543210\"},\n",
    "    {\"Name\": \"Jane Smith\", \"Email\": \"jane.smith@example.com\", \"Phone 1\": \"9876543210\", \"Phone 2\": \"1234567890\"},\n",
    "    {\"Name\": \"Bob Johnson\", \"Email\": \"bob.johnson@example.com\", \"Phone 1\": \"5555555555\", \"Phone 2\": \"6666666666\"}\n",
    "]\n",
    "\n",
    "### The output will be the same list of dictionaries as before.\n",
    "\n"
   ]
  },
  {
   "cell_type": "markdown",
   "id": "80962d44",
   "metadata": {},
   "source": [
    "## Problem 2:\n",
    "\n",
    "## Implement a SQL-like parser for phone book records in Problem 1 to implement CRUD operations and print SQL like output on console."
   ]
  },
  {
   "cell_type": "markdown",
   "id": "911ff9f0",
   "metadata": {},
   "source": [
    "### First of all Create a table to store phone records and Insert records into the table."
   ]
  },
  {
   "cell_type": "code",
   "execution_count": null,
   "id": "c0096f8a",
   "metadata": {},
   "outputs": [],
   "source": [
    "\n",
    "class PhoneBook:\n",
    "    def __init__(self, records):\n",
    "        self.connection = sqlite3.connect(':memory:')\n",
    "        self.cursor = self.connection.cursor()\n",
    "\n",
    "        # Create a table to store phone records\n",
    "        \n",
    "        self.cursor.execute('''\n",
    "            CREATE TABLE phone_records (\n",
    "                Name TEXT,\n",
    "                Email TEXT,\n",
    "                Phone1 TEXT,\n",
    "                Phone2 TEXT\n",
    "            )\n",
    "        ''')\n",
    "\n",
    "        \n",
    "        \n",
    "        # Insert records into the table\n",
    "        for record in records:\n",
    "            self.cursor.execute('''\n",
    "                INSERT INTO phone_records (Name, Email, Phone1, Phone2)\n",
    "                VALUES (?, ?, ?, ?)\n",
    "            ''', (record['Name'], record['Email'], record['Phone 1'], record['Phone 2']))\n",
    "\n",
    "        self.connection.commit()"
   ]
  },
  {
   "cell_type": "markdown",
   "id": "999ffea3",
   "metadata": {},
   "source": [
    "### 2.1) SELECT * FROM phone_records; This statement reads the first 10 records and displays them on the console.\n",
    "\n",
    "### 2.2) SELECT * FROM phone_records WHERE name=’doe’; this statement filters the records and displays the record(s) where ‘Doe’ is found.\n",
    "\n",
    "### 2.3) INSERT INTO phone_records(name, email,phone 1, phone 2) VALUES(‘Test’,’test@test.xtyz’,’1234456’,’1233233’)This statement should create a new entry in the dataset and the same should be obtained when executing section 2.2 (i.e. the previous example)\n",
    "\n",
    "### 2.4) DELETE FROM phone_records WHERE name=’John’.This statement should delete the record from the dataset."
   ]
  },
  {
   "cell_type": "markdown",
   "id": "ad41f0d6",
   "metadata": {},
   "source": [
    "## Basic Steps\n",
    "\n",
    "### 1.]Execute SQL-like queries and print the results.\n",
    "### 2.]query (str): SQL-like query.\n",
    "### 3.]And it returns output records matching the query."
   ]
  },
  {
   "cell_type": "code",
   "execution_count": null,
   "id": "52080d55",
   "metadata": {},
   "outputs": [],
   "source": [
    "def execute_query(self, query):\n",
    "    \n",
    "    try:\n",
    "            self.cursor.execute(query)\n",
    "            result = self.cursor.fetchall()\n",
    "            return result\n",
    "    except sqlite3.Error as e:\n",
    "            print(f\"Error executing query: {e}\")\n",
    "            return []\n",
    "\n",
    "if __name__ == \"__main__\":\n",
    "    \n",
    "    # Example usage\n",
    "    file_path = 'phone_records.csv'\n",
    "    phone_records = read_phone_records(file_path)\n",
    "\n",
    "    phone_book = PhoneBook(phone_records)        \n",
    "    \n",
    "    # Example queries\n",
    "    \n",
    "    ## For 2.1\n",
    "    query1 = \"SELECT * FROM phone_records;\" \n",
    "    ## For 2.2\n",
    "    query2 = \"SELECT * FROM phone_records WHERE Name='Doe';\"\n",
    "    ## For 2.3\n",
    "    query3 = \"INSERT INTO phone_records(Name, Email, Phone1, Phone2) VALUES('Best', 'Best@first.xtyz', '1234456', '1233233');\"\n",
    "    ## For 2.4\n",
    "    query4 = \"DELETE FROM phone_records WHERE Name='John';\"\n",
    "    \n",
    "    ## Additional query to display the phone book after modifications\n",
    "    query5 = \"SELECT * FROM phone_records;\"\n",
    "\n",
    "    print(phone_book.execute_query(query1)\n",
    "    print(phone_book.execute_query(query2)\n",
    "    print(phone_book.execute_query(query3)\n",
    "    print(phone_book.execute_query(query4)\n",
    "    print(phone_book.execute_query(query5)                   "
   ]
  }
 ],
 "metadata": {
  "kernelspec": {
   "display_name": "Python 3 (ipykernel)",
   "language": "python",
   "name": "python3"
  },
  "language_info": {
   "codemirror_mode": {
    "name": "ipython",
    "version": 3
   },
   "file_extension": ".py",
   "mimetype": "text/x-python",
   "name": "python",
   "nbconvert_exporter": "python",
   "pygments_lexer": "ipython3",
   "version": "3.10.9"
  }
 },
 "nbformat": 4,
 "nbformat_minor": 5
}
